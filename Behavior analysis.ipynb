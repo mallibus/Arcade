{
 "cells": [
  {
   "cell_type": "code",
   "execution_count": 137,
   "metadata": {},
   "outputs": [],
   "source": [
    "import pandas as pd\n",
    "import matplotlib.pyplot as plt\n",
    "import numpy as np\n",
    "%matplotlib inline"
   ]
  },
  {
   "cell_type": "code",
   "execution_count": 138,
   "metadata": {},
   "outputs": [],
   "source": [
    "l = pd.read_csv(\"learning_loss.csv\",header=1)\n",
    "df = pd.read_csv(\"game_history.csv\",header=5)"
   ]
  },
  {
   "cell_type": "code",
   "execution_count": 139,
   "metadata": {},
   "outputs": [
    {
     "name": "stdout",
     "output_type": "stream",
     "text": [
      "RL Brain - Loss file -  2018/12/31 11:57:57\n",
      "Loss history len: 1\n",
      "\n",
      "Arcade RL experiment - History file - 2018/12/31 11:57:56\n",
      "learning_rate : 0.000010\n",
      "epsilon : Adapt\n",
      "max_memory : 5000\n",
      "batch_size : 512\n",
      "Game history len: 1\n",
      "Full games:  1.0\n"
     ]
    }
   ],
   "source": [
    "with open('learning_loss.csv') as f:\n",
    "    for i in range(1):\n",
    "        print(f.readline(),end='')\n",
    "\n",
    "print(\"Loss history len:\",len(l))\n",
    "print(\"\")\n",
    "with open('game_history.csv') as f:\n",
    "    for i in range(5):\n",
    "        print(f.readline(),end='')\n",
    "\n",
    "print(\"Game history len:\",len(df))\n",
    "print(\"Full games: \",df['game_over'].sum())\n"
   ]
  },
  {
   "cell_type": "code",
   "execution_count": 140,
   "metadata": {},
   "outputs": [
    {
     "data": {
      "text/plain": [
       "<matplotlib.axes._subplots.AxesSubplot at 0x1d1dd178320>"
      ]
     },
     "execution_count": 140,
     "metadata": {},
     "output_type": "execute_result"
    },
    {
     "data": {
      "image/png": "[encoded data removed]",
      "text/plain": [
       "<Figure size 432x288 with 1 Axes>"
      ]
     },
     "metadata": {
      "needs_background": "light"
     },
     "output_type": "display_data"
    },
    {
     "data": {
      "image/png": "[encoded data removed]",
      "text/plain": [
       "<Figure size 432x288 with 1 Axes>"
      ]
     },
     "metadata": {
      "needs_background": "light"
     },
     "output_type": "display_data"
    }
   ],
   "source": [
    "l.rolling(50).mean().plot(title=\"Loss history (rolling mean 50)\")\n",
    "l.plot(title=\"Loss history\")\n"
   ]
  },
  {
   "cell_type": "code",
   "execution_count": 141,
   "metadata": {},
   "outputs": [
    {
     "name": "stdout",
     "output_type": "stream",
     "text": [
      "Final loss decay:\n",
      " Loss    1.0\n",
      "dtype: float64\n"
     ]
    }
   ],
   "source": [
    "print(\"Final loss decay:\\n\",(1 - (l.max()  - l.tail(50).mean())/l.max()))"
   ]
  },
  {
   "cell_type": "code",
   "execution_count": 142,
   "metadata": {},
   "outputs": [
    {
     "data": {
      "text/html": [
       "<div>\n",
       "<style scoped>\n",
       "    .dataframe tbody tr th:only-of-type {\n",
       "        vertical-align: middle;\n",
       "    }\n",
       "\n",
       "    .dataframe tbody tr th {\n",
       "        vertical-align: top;\n",
       "    }\n",
       "\n",
       "    .dataframe thead th {\n",
       "        text-align: right;\n",
       "    }\n",
       "</style>\n",
       "<table border=\"1\" class=\"dataframe\">\n",
       "  <thead>\n",
       "    <tr style=\"text-align: right;\">\n",
       "      <th></th>\n",
       "      <th>timer</th>\n",
       "      <th>s0_player_x</th>\n",
       "      <th>s0_player_y</th>\n",
       "      <th>s0_coins</th>\n",
       "      <th>s0_coin_0_x</th>\n",
       "      <th>s0_coin_0_y</th>\n",
       "      <th>s0_balls</th>\n",
       "      <th>action</th>\n",
       "      <th>s1_player_x</th>\n",
       "      <th>s1_player_y</th>\n",
       "      <th>s1_coins</th>\n",
       "      <th>s1_coin_0_x</th>\n",
       "      <th>s1_coin_0_y</th>\n",
       "      <th>s1_balls</th>\n",
       "      <th>game_over</th>\n",
       "      <th>reward</th>\n",
       "    </tr>\n",
       "  </thead>\n",
       "  <tbody>\n",
       "    <tr>\n",
       "      <th>0</th>\n",
       "      <td>1.0</td>\n",
       "      <td>0.406667</td>\n",
       "      <td>0.443333</td>\n",
       "      <td>1.0</td>\n",
       "      <td>0.5</td>\n",
       "      <td>0.5</td>\n",
       "      <td>0.0</td>\n",
       "      <td>1.0</td>\n",
       "      <td>0.406667</td>\n",
       "      <td>0.476667</td>\n",
       "      <td>0.0</td>\n",
       "      <td>0.0</td>\n",
       "      <td>0.0</td>\n",
       "      <td>0.0</td>\n",
       "      <td>1.0</td>\n",
       "      <td>0.9995</td>\n",
       "    </tr>\n",
       "  </tbody>\n",
       "</table>\n",
       "</div>"
      ],
      "text/plain": [
       "   timer  s0_player_x  s0_player_y  s0_coins  s0_coin_0_x  s0_coin_0_y  \\\n",
       "0    1.0     0.406667     0.443333       1.0          0.5          0.5   \n",
       "\n",
       "   s0_balls  action  s1_player_x  s1_player_y  s1_coins  s1_coin_0_x  \\\n",
       "0       0.0     1.0     0.406667     0.476667       0.0          0.0   \n",
       "\n",
       "   s1_coin_0_y  s1_balls  game_over  reward  \n",
       "0          0.0       0.0        1.0  0.9995  "
      ]
     },
     "execution_count": 142,
     "metadata": {},
     "output_type": "execute_result"
    }
   ],
   "source": [
    "df.head()"
   ]
  },
  {
   "cell_type": "code",
   "execution_count": 143,
   "metadata": {},
   "outputs": [
    {
     "data": {
      "image/png": "[encoded data removed]",
      "text/plain": [
       "<Figure size 432x288 with 1 Axes>"
      ]
     },
     "metadata": {
      "needs_background": "light"
     },
     "output_type": "display_data"
    }
   ],
   "source": [
    "l_games = [-1]\n",
    "l_games.extend(list(df[df['game_over']>0].index))\n",
    "plt.plot([(l_games[p+1]-l_games[p]+1) for p in range(len(l_games)-1)])\n",
    "plt.title(\"Games steps history\")\n",
    "plt.show()"
   ]
  },
  {
   "cell_type": "code",
   "execution_count": 144,
   "metadata": {},
   "outputs": [
    {
     "name": "stderr",
     "output_type": "stream",
     "text": [
      "C:\\Users\\emamorc\\AppData\\Local\\conda\\conda\\envs\\arcade\\lib\\site-packages\\pandas\\core\\series.py:851: FutureWarning: \n",
      "Passing list-likes to .loc or [] with any missing label will raise\n",
      "KeyError in the future, you can use .reindex() as an alternative.\n",
      "\n",
      "See the documentation here:\n",
      "https://pandas.pydata.org/pandas-docs/stable/indexing.html#deprecate-loc-reindex-listlike\n",
      "  return self.loc[key]\n"
     ]
    },
    {
     "data": {
      "image/png": "[encoded data removed]",
      "text/plain": [
       "<Figure size 432x288 with 1 Axes>"
      ]
     },
     "metadata": {
      "needs_background": "light"
     },
     "output_type": "display_data"
    }
   ],
   "source": [
    "p=0\n",
    "\n",
    "loc0,loc1 = l_games[p]+1,l_games[p+1]\n",
    "my_title = \"[\"+str(loc0)+\",\"+str(loc1)+\"]\"\n",
    "plt.scatter(np.array([df.loc[loc0:loc1]['s0_player_x']]),np.array([df.loc[loc0:loc1]['s0_player_y']]),s=380)\n",
    "xnames = ['s0_coin_{:d}_x'.format(i) for i in range(20)]\n",
    "ynames = ['s0_coin_{:d}_y'.format(i) for i in range(20)]\n",
    "plt.scatter(df.loc[loc0][xnames].values,df.loc[loc0][ynames].values,marker='o',color='r',s=380)\n",
    "plt.title(my_title)\n",
    "plt.xlim(0,1)\n",
    "plt.ylim(0,1)\n",
    "plt.show()"
   ]
  },
  {
   "cell_type": "code",
   "execution_count": 145,
   "metadata": {},
   "outputs": [],
   "source": [
    "\n",
    "for p in range(len(l_games)-1):\n",
    "    loc0,loc1 = l_games[p]+1,l_games[p+1]\n",
    "    if(loc1>loc0):\n",
    "        my_title = \"[\"+str(loc0)+\",\"+str(loc1)+\"]\"\n",
    "        plt.scatter(np.array([df.loc[loc0:loc1]['s0_player_x']]),\n",
    "        np.array([df.loc[loc0:loc1]['s0_player_y']]))\n",
    "        plt.scatter(np.array([df.loc[loc1]['s1_player_x'],]),np.array([df.loc[loc1]['s1_player_y']]),s=100,color='g')\n",
    "        xnames = ['s0_coin_{:d}_x'.format(i) for i in range(20)]\n",
    "        ynames = ['s0_coin_{:d}_y'.format(i) for i in range(20)]\n",
    "        plt.scatter(df.loc[loc0][xnames].values,df.loc[loc0][ynames].values,marker='o',color='r',s=380)\n",
    "        plt.title(my_title)\n",
    "        plt.xlim(0,1)\n",
    "        plt.ylim(0,1)\n",
    "        plt.show()\n"
   ]
  },
  {
   "cell_type": "code",
   "execution_count": 146,
   "metadata": {},
   "outputs": [
    {
     "data": {
      "text/html": [
       "<div>\n",
       "<style scoped>\n",
       "    .dataframe tbody tr th:only-of-type {\n",
       "        vertical-align: middle;\n",
       "    }\n",
       "\n",
       "    .dataframe tbody tr th {\n",
       "        vertical-align: top;\n",
       "    }\n",
       "\n",
       "    .dataframe thead th {\n",
       "        text-align: right;\n",
       "    }\n",
       "</style>\n",
       "<table border=\"1\" class=\"dataframe\">\n",
       "  <thead>\n",
       "    <tr style=\"text-align: right;\">\n",
       "      <th></th>\n",
       "      <th>timer</th>\n",
       "      <th>s0_player_x</th>\n",
       "      <th>s0_player_y</th>\n",
       "      <th>s0_coins</th>\n",
       "      <th>s0_coin_0_x</th>\n",
       "      <th>s0_coin_0_y</th>\n",
       "      <th>s0_balls</th>\n",
       "      <th>action</th>\n",
       "      <th>s1_player_x</th>\n",
       "      <th>s1_player_y</th>\n",
       "      <th>s1_coins</th>\n",
       "      <th>s1_coin_0_x</th>\n",
       "      <th>s1_coin_0_y</th>\n",
       "      <th>s1_balls</th>\n",
       "      <th>game_over</th>\n",
       "      <th>reward</th>\n",
       "    </tr>\n",
       "  </thead>\n",
       "  <tbody>\n",
       "    <tr>\n",
       "      <th>0</th>\n",
       "      <td>1.0</td>\n",
       "      <td>0.406667</td>\n",
       "      <td>0.443333</td>\n",
       "      <td>1.0</td>\n",
       "      <td>0.5</td>\n",
       "      <td>0.5</td>\n",
       "      <td>0.0</td>\n",
       "      <td>1.0</td>\n",
       "      <td>0.406667</td>\n",
       "      <td>0.476667</td>\n",
       "      <td>0.0</td>\n",
       "      <td>0.0</td>\n",
       "      <td>0.0</td>\n",
       "      <td>0.0</td>\n",
       "      <td>1.0</td>\n",
       "      <td>0.9995</td>\n",
       "    </tr>\n",
       "  </tbody>\n",
       "</table>\n",
       "</div>"
      ],
      "text/plain": [
       "   timer  s0_player_x  s0_player_y  s0_coins  s0_coin_0_x  s0_coin_0_y  \\\n",
       "0    1.0     0.406667     0.443333       1.0          0.5          0.5   \n",
       "\n",
       "   s0_balls  action  s1_player_x  s1_player_y  s1_coins  s1_coin_0_x  \\\n",
       "0       0.0     1.0     0.406667     0.476667       0.0          0.0   \n",
       "\n",
       "   s1_coin_0_y  s1_balls  game_over  reward  \n",
       "0          0.0       0.0        1.0  0.9995  "
      ]
     },
     "execution_count": 146,
     "metadata": {},
     "output_type": "execute_result"
    }
   ],
   "source": [
    "df.head()"
   ]
  },
  {
   "cell_type": "code",
   "execution_count": 147,
   "metadata": {},
   "outputs": [
    {
     "data": {
      "text/html": [
       "<div>\n",
       "<style scoped>\n",
       "    .dataframe tbody tr th:only-of-type {\n",
       "        vertical-align: middle;\n",
       "    }\n",
       "\n",
       "    .dataframe tbody tr th {\n",
       "        vertical-align: top;\n",
       "    }\n",
       "\n",
       "    .dataframe thead th {\n",
       "        text-align: right;\n",
       "    }\n",
       "</style>\n",
       "<table border=\"1\" class=\"dataframe\">\n",
       "  <thead>\n",
       "    <tr style=\"text-align: right;\">\n",
       "      <th></th>\n",
       "      <th>timer</th>\n",
       "      <th>s0_player_x</th>\n",
       "      <th>s0_player_y</th>\n",
       "      <th>s0_coins</th>\n",
       "      <th>s0_coin_0_x</th>\n",
       "      <th>s0_coin_0_y</th>\n",
       "      <th>s0_balls</th>\n",
       "      <th>action</th>\n",
       "      <th>s1_player_x</th>\n",
       "      <th>s1_player_y</th>\n",
       "      <th>s1_coins</th>\n",
       "      <th>s1_coin_0_x</th>\n",
       "      <th>s1_coin_0_y</th>\n",
       "      <th>s1_balls</th>\n",
       "      <th>game_over</th>\n",
       "      <th>reward</th>\n",
       "    </tr>\n",
       "  </thead>\n",
       "  <tbody>\n",
       "    <tr>\n",
       "      <th>0</th>\n",
       "      <td>1.0</td>\n",
       "      <td>0.406667</td>\n",
       "      <td>0.443333</td>\n",
       "      <td>1.0</td>\n",
       "      <td>0.5</td>\n",
       "      <td>0.5</td>\n",
       "      <td>0.0</td>\n",
       "      <td>1.0</td>\n",
       "      <td>0.406667</td>\n",
       "      <td>0.476667</td>\n",
       "      <td>0.0</td>\n",
       "      <td>0.0</td>\n",
       "      <td>0.0</td>\n",
       "      <td>0.0</td>\n",
       "      <td>1.0</td>\n",
       "      <td>0.9995</td>\n",
       "    </tr>\n",
       "  </tbody>\n",
       "</table>\n",
       "</div>"
      ],
      "text/plain": [
       "   timer  s0_player_x  s0_player_y  s0_coins  s0_coin_0_x  s0_coin_0_y  \\\n",
       "0    1.0     0.406667     0.443333       1.0          0.5          0.5   \n",
       "\n",
       "   s0_balls  action  s1_player_x  s1_player_y  s1_coins  s1_coin_0_x  \\\n",
       "0       0.0     1.0     0.406667     0.476667       0.0          0.0   \n",
       "\n",
       "   s1_coin_0_y  s1_balls  game_over  reward  \n",
       "0          0.0       0.0        1.0  0.9995  "
      ]
     },
     "execution_count": 147,
     "metadata": {},
     "output_type": "execute_result"
    }
   ],
   "source": [
    "df[df['game_over']>0]"
   ]
  },
  {
   "cell_type": "code",
   "execution_count": 148,
   "metadata": {},
   "outputs": [
    {
     "data": {
      "image/png": "[encoded data removed]",
      "text/plain": [
       "<Figure size 432x288 with 1 Axes>"
      ]
     },
     "metadata": {
      "needs_background": "light"
     },
     "output_type": "display_data"
    }
   ],
   "source": [
    "p=0\n",
    "\n",
    "loc0,loc1 = l_games[p]+1,l_games[p+1]\n",
    "my_title = \"[\"+str(loc0)+\",\"+str(loc1)+\"]\"\n",
    "plt.scatter(np.array([df.loc[loc1]['s0_player_x'],]),np.array([df.loc[loc1]['s0_player_y']]),s=380)\n",
    "plt.scatter(np.array([df.loc[loc1]['s1_player_x'],]),np.array([df.loc[loc1]['s1_player_y']]),s=380,color='g')\n",
    "xnames = ['s0_coin_{:d}_x'.format(i) for i in range(20)]\n",
    "ynames = ['s0_coin_{:d}_y'.format(i) for i in range(20)]\n",
    "plt.scatter(df.loc[loc0][xnames].values,df.loc[loc0][ynames].values,marker='o',color='r',s=380)\n",
    "plt.title(my_title)\n",
    "plt.xlim(0,1)\n",
    "plt.ylim(0,1)\n",
    "plt.show()"
   ]
  },
  {
   "cell_type": "code",
   "execution_count": 149,
   "metadata": {},
   "outputs": [],
   "source": [
    "from tensorflow.keras.layers import Input, Dense, Dropout\n",
    "from tensorflow.keras.models import Model\n",
    "from tensorflow.keras.optimizers import Adam\n",
    "from tensorflow.keras.models import load_model\n"
   ]
  },
  {
   "cell_type": "code",
   "execution_count": 150,
   "metadata": {},
   "outputs": [],
   "source": [
    "model = load_model(\"model.h5\")"
   ]
  },
  {
   "cell_type": "code",
   "execution_count": 151,
   "metadata": {},
   "outputs": [],
   "source": [
    "MOVEMENT_SPEED = 0.05\n",
    "def pick_dql_action(status_0):\n",
    "    q_values = model.predict(np.matrix(status_0))\n",
    "    action = np.argmax(q_values[0])\n",
    "    action_encoder = { 0 : (0,0),\\\n",
    "                       1 : (0,1),\\\n",
    "                       2 : (1,1),\\\n",
    "                       3 : (1,0),\\\n",
    "                       4 : (1,-1),\\\n",
    "                       5 : (0,-1),\\\n",
    "                       6 : (-1,-1),\\\n",
    "                       7 : (-1,0),\\\n",
    "                       8:  (-1,1) }\n",
    "    enc_action = action_encoder[action]\n",
    "    change_x = MOVEMENT_SPEED * enc_action[0]\n",
    "    change_y = MOVEMENT_SPEED * enc_action[1]\n",
    "    return change_x,change_y\n"
   ]
  },
  {
   "cell_type": "code",
   "execution_count": 152,
   "metadata": {},
   "outputs": [
    {
     "data": {
      "text/plain": [
       "Index(['s0_player_x', 's0_player_y', 's0_coins', 's0_coin_0_x', 's0_coin_0_y',\n",
       "       's0_balls'],\n",
       "      dtype='object')"
      ]
     },
     "execution_count": 152,
     "metadata": {},
     "output_type": "execute_result"
    }
   ],
   "source": [
    "df.columns[1:7]"
   ]
  },
  {
   "cell_type": "code",
   "execution_count": 153,
   "metadata": {},
   "outputs": [],
   "source": [
    "status = df.loc[loc1][df.columns[1:7]].values"
   ]
  },
  {
   "cell_type": "code",
   "execution_count": 154,
   "metadata": {},
   "outputs": [
    {
     "data": {
      "text/plain": [
       "array([0.40666667, 0.44333333, 1.        , 0.5       , 0.5       ,\n",
       "       0.        ])"
      ]
     },
     "execution_count": 154,
     "metadata": {},
     "output_type": "execute_result"
    }
   ],
   "source": [
    "status"
   ]
  },
  {
   "cell_type": "code",
   "execution_count": 155,
   "metadata": {},
   "outputs": [
    {
     "data": {
      "text/plain": [
       "7"
      ]
     },
     "execution_count": 155,
     "metadata": {},
     "output_type": "execute_result"
    }
   ],
   "source": [
    "np.argmax(model.predict(np.matrix(status)))"
   ]
  },
  {
   "cell_type": "code",
   "execution_count": 156,
   "metadata": {},
   "outputs": [
    {
     "data": {
      "text/plain": [
       "7"
      ]
     },
     "execution_count": 156,
     "metadata": {},
     "output_type": "execute_result"
    }
   ],
   "source": [
    "np.argmax(model.predict(np.matrix(status))[0])"
   ]
  },
  {
   "cell_type": "code",
   "execution_count": 157,
   "metadata": {},
   "outputs": [
    {
     "data": {
      "image/png": "[encoded data removed]",
      "text/plain": [
       "<Figure size 432x288 with 1 Axes>"
      ]
     },
     "metadata": {
      "needs_background": "light"
     },
     "output_type": "display_data"
    }
   ],
   "source": [
    "x_p = [p/400 for p in range(0,400,40)]\n",
    "y_p = [p/400 for p in range(0,400,40)]\n",
    "\n",
    "q = []\n",
    "\n",
    "for x in x_p:\n",
    "    for y in y_p:\n",
    "        plt.scatter(x,y,s=5,color='b')\n",
    "        status = np.array([x,y,1,0.5,0.5,0])\n",
    "        q.append(model.predict(np.matrix(status))[0])\n",
    "        dx,dy = pick_dql_action(status)\n",
    "        plt.arrow(x,y,dx,dy,color='r')\n",
    "\n",
    "plt.show()\n"
   ]
  },
  {
   "cell_type": "code",
   "execution_count": 158,
   "metadata": {},
   "outputs": [],
   "source": [
    "import pandas as pd\n",
    "import seaborn as sns"
   ]
  },
  {
   "cell_type": "code",
   "execution_count": 159,
   "metadata": {},
   "outputs": [
    {
     "data": {
      "text/plain": [
       "<matplotlib.axes._subplots.AxesSubplot at 0x1d1dd164358>"
      ]
     },
     "execution_count": 159,
     "metadata": {},
     "output_type": "execute_result"
    },
    {
     "data": {
      "image/png": "[encoded data removed]",
      "text/plain": [
       "<Figure size 432x288 with 2 Axes>"
      ]
     },
     "metadata": {
      "needs_background": "light"
     },
     "output_type": "display_data"
    }
   ],
   "source": [
    "sns.heatmap(pd.DataFrame(q))"
   ]
  },
  {
   "cell_type": "code",
   "execution_count": 161,
   "metadata": {},
   "outputs": [
    {
     "name": "stdout",
     "output_type": "stream",
     "text": [
      "_________________________________________________________________\n",
      "Layer (type)                 Output Shape              Param #   \n",
      "=================================================================\n",
      "input_1 (InputLayer)         (None, 6)                 0         \n",
      "_________________________________________________________________\n",
      "dense (Dense)                (None, 128)               896       \n",
      "_________________________________________________________________\n",
      "dropout (Dropout)            (None, 128)               0         \n",
      "_________________________________________________________________\n",
      "dense_1 (Dense)              (None, 32)                4128      \n",
      "_________________________________________________________________\n",
      "dropout_1 (Dropout)          (None, 32)                0         \n",
      "_________________________________________________________________\n",
      "dense_2 (Dense)              (None, 9)                 297       \n",
      "=================================================================\n",
      "Total params: 5,321\n",
      "Trainable params: 5,321\n",
      "Non-trainable params: 0\n",
      "_________________________________________________________________\n"
     ]
    }
   ],
   "source": [
    "model.summary()\n"
   ]
  },
  {
   "cell_type": "code",
   "execution_count": 166,
   "metadata": {},
   "outputs": [],
   "source": [
    "learning_rate = 0.0001"
   ]
  },
  {
   "cell_type": "code",
   "execution_count": 244,
   "metadata": {},
   "outputs": [],
   "source": [
    "states = Input(shape=(2,),name='in') # Number of neurons to encode the state (status_size rows, 1 column)\n",
    " \n",
    "x = Dense(units=128, activation='sigmoid',name='h1')(states)\n",
    "y = Dense(units=32, activation='sigmoid',name='h2')(x)\n",
    "q_values = Dense(units = 9, activation='softmax',name='out')(y)\n",
    "\n",
    "model = Model(inputs = states, outputs = q_values, name='brain')\n",
    "model.compile(loss = 'mse',optimizer= Adam(lr=learning_rate))\n",
    "\n"
   ]
  },
  {
   "cell_type": "code",
   "execution_count": 245,
   "metadata": {},
   "outputs": [
    {
     "name": "stdout",
     "output_type": "stream",
     "text": [
      "_________________________________________________________________\n",
      "Layer (type)                 Output Shape              Param #   \n",
      "=================================================================\n",
      "in (InputLayer)              (None, 2)                 0         \n",
      "_________________________________________________________________\n",
      "h1 (Dense)                   (None, 128)               384       \n",
      "_________________________________________________________________\n",
      "h2 (Dense)                   (None, 32)                4128      \n",
      "_________________________________________________________________\n",
      "out (Dense)                  (None, 9)                 297       \n",
      "=================================================================\n",
      "Total params: 4,809\n",
      "Trainable params: 4,809\n",
      "Non-trainable params: 0\n",
      "_________________________________________________________________\n"
     ]
    }
   ],
   "source": [
    "model.summary()"
   ]
  },
  {
   "cell_type": "code",
   "execution_count": 246,
   "metadata": {},
   "outputs": [
    {
     "data": {
      "image/png": "[encoded data removed]",
      "text/plain": [
       "<Figure size 432x288 with 1 Axes>"
      ]
     },
     "metadata": {
      "needs_background": "light"
     },
     "output_type": "display_data"
    }
   ],
   "source": [
    "x_p = [p/400 for p in range(0,400,40)]\n",
    "y_p = [p/400 for p in range(0,400,40)]\n",
    "\n",
    "q = []\n",
    "\n",
    "for x in x_p:\n",
    "    for y in y_p:\n",
    "        plt.scatter(x,y,s=5,color='b')\n",
    "        status = np.array([x,y])\n",
    "        q.append(model.predict(np.matrix(status))[0])\n",
    "        dx,dy = pick_dql_action(status)\n",
    "        plt.arrow(x,y,dx,dy,color='r')\n",
    "\n",
    "plt.show()"
   ]
  },
  {
   "cell_type": "code",
   "execution_count": 247,
   "metadata": {},
   "outputs": [
    {
     "data": {
      "text/plain": [
       "<matplotlib.axes._subplots.AxesSubplot at 0x1d1f4e0ab70>"
      ]
     },
     "execution_count": 247,
     "metadata": {},
     "output_type": "execute_result"
    },
    {
     "data": {
      "image/png": "[encoded data removed]",
      "text/plain": [
       "<Figure size 432x288 with 2 Axes>"
      ]
     },
     "metadata": {
      "needs_background": "light"
     },
     "output_type": "display_data"
    }
   ],
   "source": [
    "sns.heatmap(pd.DataFrame(q))"
   ]
  },
  {
   "cell_type": "code",
   "execution_count": 234,
   "metadata": {},
   "outputs": [
    {
     "data": {
      "text/plain": [
       "[array([[ 2.10181907e-01, -1.32581532e-01, -1.94528952e-01,\n",
       "         -1.82314068e-02, -8.29806775e-02, -1.87822804e-01,\n",
       "         -1.56463131e-01,  7.89207965e-02,  2.98066139e-02,\n",
       "         -4.75359857e-02, -4.48545665e-02,  1.10341117e-01,\n",
       "         -2.01522559e-02,  1.52701363e-01, -2.03100249e-01,\n",
       "          7.46147186e-02,  1.31571665e-01,  1.59540340e-01,\n",
       "         -1.01790793e-01, -2.01611966e-01, -5.59811145e-02,\n",
       "         -1.09039135e-01,  8.96605998e-02, -5.01792878e-02,\n",
       "          1.26694694e-01, -8.11068714e-03,  2.02224538e-01,\n",
       "          1.80847183e-01, -6.75739199e-02, -6.07817024e-02,\n",
       "          1.11508623e-01, -8.06741416e-02,  1.22035280e-01,\n",
       "         -1.08412847e-01,  1.35323778e-01, -3.21400315e-02,\n",
       "          1.35621890e-01, -8.06419551e-02,  1.64054081e-01,\n",
       "          5.47122508e-02, -3.72230560e-02,  1.01029769e-01,\n",
       "         -1.07496366e-01, -2.35850811e-02, -1.17133319e-01,\n",
       "          5.25189489e-02, -5.91448992e-02, -1.54227018e-04,\n",
       "         -2.09370300e-01,  2.88886726e-02, -1.13070510e-01,\n",
       "          2.08154306e-01,  1.56429991e-01,  1.27143100e-01,\n",
       "         -1.46208510e-01, -1.00026727e-02,  5.00764698e-02,\n",
       "          4.58141714e-02,  2.09229738e-02, -6.10518157e-02,\n",
       "          5.38667291e-02, -1.10805653e-01,  1.10736981e-01,\n",
       "          1.89101204e-01,  1.50673464e-01, -4.61662114e-02,\n",
       "         -1.62079349e-01,  1.29252091e-01,  8.84714872e-02,\n",
       "         -4.44424301e-02,  9.82627124e-02, -1.05700843e-01,\n",
       "          1.87835500e-01, -1.58028841e-01, -1.57939494e-01,\n",
       "         -1.39298528e-01, -1.33789778e-01,  1.54230893e-02,\n",
       "          1.91221997e-01,  1.89169213e-01, -1.45994037e-01,\n",
       "          6.63433522e-02,  4.87268716e-02,  9.06941146e-02,\n",
       "          9.02913660e-02, -7.75607973e-02,  4.76142913e-02,\n",
       "         -1.14570148e-01, -1.60413131e-01, -1.08441852e-01,\n",
       "         -8.52357447e-02,  2.96778083e-02,  7.66453892e-02,\n",
       "         -4.30590361e-02,  1.76917568e-01, -7.21891075e-02,\n",
       "          9.01429504e-02,  4.55898196e-02, -4.60088104e-02,\n",
       "         -1.31106079e-01,  3.61646563e-02,  1.82363227e-01,\n",
       "         -5.24707884e-02, -1.16479792e-01,  1.80540159e-01,\n",
       "         -4.34007794e-02, -1.25120699e-01,  6.31844848e-02,\n",
       "          1.92208484e-01, -1.54254675e-01, -1.86096996e-01,\n",
       "         -1.49630845e-01,  1.64593235e-01, -1.06627263e-01,\n",
       "         -1.69530958e-01,  8.68860632e-02,  8.35935920e-02,\n",
       "         -1.75600678e-01, -1.85112208e-01,  2.10725352e-01,\n",
       "         -1.15320593e-01, -2.74747610e-04,  7.28625804e-02,\n",
       "         -1.62346378e-01, -4.90647852e-02, -1.72917977e-01,\n",
       "          6.47684932e-03, -2.44801193e-02],\n",
       "        [ 6.62518293e-02,  2.09862813e-01,  4.20168787e-02,\n",
       "         -1.13673292e-01, -5.05154282e-02,  4.85028774e-02,\n",
       "         -1.85523689e-01,  7.77153224e-02, -6.09579831e-02,\n",
       "          6.15676790e-02, -1.61021352e-01,  1.97106615e-01,\n",
       "         -1.26051515e-01, -1.05832115e-01,  1.88422754e-01,\n",
       "          1.61496893e-01, -1.06922239e-02, -4.06807661e-02,\n",
       "         -3.78658324e-02,  9.01934057e-02, -1.06452800e-01,\n",
       "         -1.81411132e-01, -9.63991806e-02, -7.32841343e-02,\n",
       "         -2.03954980e-01,  5.15674204e-02, -1.13616787e-01,\n",
       "          3.13040763e-02, -1.26051605e-01,  1.46055385e-01,\n",
       "         -1.71532914e-01, -1.29514217e-01,  1.39618516e-02,\n",
       "          2.04187050e-01, -1.41671866e-01, -1.88055530e-01,\n",
       "         -3.27085108e-02, -4.65629101e-02,  1.73395887e-01,\n",
       "          1.71714202e-01, -4.93556261e-02, -8.54006410e-03,\n",
       "          1.34859636e-01,  2.62701511e-02,  1.10104784e-01,\n",
       "          1.98584661e-01, -4.04788107e-02, -1.26322329e-01,\n",
       "         -3.87531519e-02,  8.68966728e-02,  1.13120958e-01,\n",
       "         -1.80886343e-01,  1.87055662e-01, -1.69572070e-01,\n",
       "         -1.71054304e-01, -2.62179375e-02,  1.17151245e-01,\n",
       "         -4.54827100e-02,  7.54409283e-02,  2.13742107e-02,\n",
       "          2.45835483e-02, -1.14056714e-01,  4.22014743e-02,\n",
       "          6.39126450e-02,  1.79073200e-01,  2.08359584e-01,\n",
       "          1.97184160e-01,  5.65650314e-02,  1.56432703e-01,\n",
       "          1.30518690e-01, -6.35924935e-03,  1.05796650e-01,\n",
       "          4.95200008e-02, -4.06125188e-03,  1.08690217e-01,\n",
       "         -1.05558775e-01,  1.43558666e-01,  5.85747510e-02,\n",
       "          1.17346421e-01, -1.27952397e-02,  4.04409617e-02,\n",
       "          5.13377637e-02, -1.75000057e-01, -1.45044208e-01,\n",
       "         -2.70485431e-02,  1.43266186e-01, -1.49882093e-01,\n",
       "          8.02208334e-02,  1.13159522e-01, -1.78269446e-02,\n",
       "         -1.63488537e-02, -1.83803275e-01,  1.45698056e-01,\n",
       "         -2.03510910e-01,  3.34612727e-02, -1.77964628e-01,\n",
       "          2.39366293e-02, -1.74693584e-01, -1.43191636e-01,\n",
       "          9.80971903e-02,  9.82453674e-02,  1.47795066e-01,\n",
       "          1.83364257e-01, -1.94905251e-01, -7.11231977e-02,\n",
       "          1.28862903e-01,  1.03380397e-01, -3.57434005e-02,\n",
       "         -1.46903560e-01,  1.83804497e-01,  1.24738559e-01,\n",
       "          1.85955599e-01, -2.07168758e-01,  2.10435256e-01,\n",
       "          4.37480360e-02, -5.30126691e-03, -2.06219479e-01,\n",
       "         -6.95493519e-02, -1.81752369e-01,  1.25925854e-01,\n",
       "         -1.90355510e-01, -1.04029931e-01,  1.29158095e-01,\n",
       "          6.99927062e-02,  1.21639177e-01,  9.62026417e-03,\n",
       "         -1.14077248e-01, -9.80939493e-02],\n",
       "        [ 1.40271172e-01, -2.04686224e-02, -1.63467839e-01,\n",
       "          3.53262722e-02, -5.38334399e-02, -1.51293695e-01,\n",
       "         -1.64163798e-01,  1.17101029e-01,  1.32752165e-01,\n",
       "          1.64534673e-01,  1.09640613e-01,  2.07212284e-01,\n",
       "          1.86349258e-01,  1.37331173e-01, -5.89143336e-02,\n",
       "         -9.73198414e-02,  1.18419543e-01,  7.55998939e-02,\n",
       "         -2.07866490e-01,  1.27218083e-01, -2.05125570e-01,\n",
       "         -2.40467638e-02,  1.02594808e-01,  1.33181855e-01,\n",
       "          1.53498217e-01, -1.66886851e-01,  1.23202339e-01,\n",
       "          1.15969136e-01,  4.96622175e-02, -1.38189644e-01,\n",
       "          1.11739188e-02, -1.86844260e-01,  1.55027062e-02,\n",
       "         -1.75049663e-01,  5.76790124e-02,  5.63861281e-02,\n",
       "         -1.05020471e-01,  2.06378594e-01,  7.57349581e-02,\n",
       "         -6.48586452e-02, -3.64664942e-02,  1.28227398e-01,\n",
       "          2.47379839e-02,  1.20604411e-01, -9.15809795e-02,\n",
       "          1.88404694e-01, -2.09978834e-01, -1.25720561e-01,\n",
       "         -2.70585865e-02, -2.06833929e-02, -9.40850228e-02,\n",
       "          2.59435177e-03,  1.35494933e-01, -1.98148504e-01,\n",
       "         -1.38716951e-01, -1.74185142e-01, -6.50501996e-02,\n",
       "         -1.98737562e-01,  4.88763899e-02,  1.56090155e-01,\n",
       "         -8.22601914e-02, -4.60659713e-02,  5.89233786e-02,\n",
       "          1.04670182e-01, -2.11098075e-01,  1.36310473e-01,\n",
       "          1.72631159e-01, -4.74423617e-02, -1.93596274e-01,\n",
       "          1.38653442e-01,  7.82008618e-02, -1.56399757e-01,\n",
       "          1.81787297e-01,  1.90490499e-01,  2.08538219e-01,\n",
       "          1.15487382e-01, -1.40390188e-01,  1.11985520e-01,\n",
       "         -1.84383452e-01, -1.74483091e-01, -3.28256041e-02,\n",
       "         -1.27468660e-01,  1.73792675e-01,  9.68654901e-02,\n",
       "          1.21864751e-01, -4.87944782e-02,  1.48727894e-02,\n",
       "          9.34344679e-02, -6.00171238e-02,  1.32680818e-01,\n",
       "          1.63802013e-01, -1.07638434e-01, -1.87503040e-01,\n",
       "         -1.14189297e-01,  1.41289219e-01,  7.43798167e-02,\n",
       "         -6.17639273e-02, -9.75725502e-02,  6.99408501e-02,\n",
       "          1.27902642e-01, -1.64332107e-01,  6.53454810e-02,\n",
       "         -2.16801912e-02, -1.98623940e-01,  6.58384711e-02,\n",
       "         -3.22085470e-02,  1.49805799e-01, -7.99715221e-02,\n",
       "         -1.48033947e-01,  3.84274125e-03,  6.67618662e-02,\n",
       "          2.29951292e-02, -2.07029313e-01,  1.40895650e-01,\n",
       "         -5.90384454e-02,  5.64652830e-02, -1.54799730e-01,\n",
       "          2.01386049e-01,  9.92981941e-02,  1.88306108e-01,\n",
       "         -8.83517042e-02, -4.66228873e-02, -2.05012053e-01,\n",
       "         -5.00694960e-02, -1.30272135e-01, -9.28254873e-02,\n",
       "         -1.05905771e-01,  1.78989813e-01],\n",
       "        [-4.55657095e-02, -1.10701166e-01, -1.45081997e-01,\n",
       "         -7.91267753e-02,  1.49049655e-01, -1.91425905e-01,\n",
       "         -3.54688913e-02, -1.27391517e-01,  4.41226810e-02,\n",
       "         -1.52328178e-01,  2.36462355e-02, -7.99522400e-02,\n",
       "         -6.15802258e-02,  2.11581036e-01, -2.04179332e-01,\n",
       "          3.68837714e-02, -4.57733572e-02,  1.64138034e-01,\n",
       "         -1.95133388e-01,  1.25964329e-01,  1.32311836e-01,\n",
       "          4.21459228e-02, -4.66791987e-02, -1.10471517e-01,\n",
       "          1.89756051e-01, -1.97234944e-01,  3.47019583e-02,\n",
       "          1.56530485e-01, -3.31534296e-02, -8.20546150e-02,\n",
       "         -1.82058364e-02,  1.64707854e-01, -7.52799511e-02,\n",
       "         -4.33137566e-02,  4.26899344e-02,  1.34068415e-01,\n",
       "          2.35969424e-02, -1.00550726e-01,  1.60182118e-02,\n",
       "         -1.16939895e-01,  1.17767170e-01,  1.15040243e-02,\n",
       "         -1.53576970e-01, -6.90925270e-02, -1.88382149e-01,\n",
       "          1.89007178e-01,  7.25767761e-02, -1.52376607e-01,\n",
       "         -1.54841810e-01,  2.73231566e-02,  2.04926834e-01,\n",
       "          5.16772419e-02,  9.74757820e-02,  1.31151393e-01,\n",
       "          4.32379395e-02, -1.66441426e-01,  1.12103522e-02,\n",
       "          1.24074861e-01,  4.46488112e-02, -2.92527676e-02,\n",
       "         -3.55934650e-02, -1.79602176e-01,  1.78583130e-01,\n",
       "         -1.15481883e-01, -1.73693702e-01, -2.03269720e-03,\n",
       "          1.31837204e-01, -1.70847356e-01, -1.41088307e-01,\n",
       "          2.03611508e-01, -4.48728800e-02, -1.62433088e-02,\n",
       "          5.13037294e-02,  1.64105847e-01, -1.99359968e-01,\n",
       "          1.02279782e-02, -1.86032474e-01,  1.88608319e-02,\n",
       "         -6.52880222e-02, -1.05656192e-01,  2.01512113e-01,\n",
       "          1.21883169e-01,  7.56435543e-02, -7.00240433e-02,\n",
       "          7.05027133e-02, -1.15866669e-01,  2.02280283e-03,\n",
       "         -1.62784249e-01, -1.06124066e-01, -1.56075969e-01,\n",
       "          1.31031707e-01, -5.61249256e-03, -1.68168485e-01,\n",
       "         -9.28665027e-02, -1.73185915e-01,  1.49787739e-01,\n",
       "          9.65957195e-02, -1.70360506e-01, -1.28695816e-01,\n",
       "          8.89022201e-02, -5.73192537e-02, -1.37437180e-01,\n",
       "          1.45183101e-01,  4.84148413e-02, -1.36321932e-01,\n",
       "          2.88248062e-03, -5.88972420e-02,  1.10941425e-01,\n",
       "          2.04390004e-01,  1.11365810e-01, -2.48966366e-02,\n",
       "         -2.13465095e-02,  9.77805108e-02,  3.29120308e-02,\n",
       "         -1.50997251e-01,  1.08671799e-01,  4.20625061e-02,\n",
       "          5.35685867e-02,  4.31892127e-02,  1.84081003e-01,\n",
       "         -1.43472239e-01, -1.30228445e-01,  8.57032686e-02,\n",
       "          3.75053734e-02, -6.01493567e-02,  1.61003843e-01,\n",
       "          4.23783511e-02, -4.32155877e-02],\n",
       "        [ 5.73447794e-02,  2.07139090e-01,  9.62745100e-02,\n",
       "         -1.48438916e-01,  1.83753774e-01,  1.79585651e-01,\n",
       "         -1.15063503e-01,  1.23609230e-01, -1.46937519e-01,\n",
       "          4.31677699e-03,  2.05444619e-01,  2.78315395e-02,\n",
       "         -2.02349603e-01,  1.30062625e-01, -1.83007076e-01,\n",
       "          8.62791687e-02,  3.68432105e-02, -7.13823587e-02,\n",
       "          7.73682445e-02,  1.91684827e-01,  1.94047391e-03,\n",
       "         -1.33818120e-01, -1.53954491e-01, -1.69939503e-01,\n",
       "          4.59509939e-02, -1.30738288e-01, -8.32728297e-02,\n",
       "         -1.08905241e-01,  8.96797627e-02, -1.30946845e-01,\n",
       "         -1.38585225e-01,  2.84604430e-02,  1.97528303e-02,\n",
       "          2.06938699e-01,  3.90695184e-02, -1.32523924e-01,\n",
       "         -1.08535387e-01, -9.35181677e-02, -1.00025684e-02,\n",
       "         -1.61407605e-01, -7.90017098e-02, -1.89628825e-01,\n",
       "         -8.40175301e-02,  8.83280486e-02, -1.45628750e-02,\n",
       "         -7.77745098e-02,  1.74746588e-01, -2.94457972e-02,\n",
       "          1.63697943e-01,  1.27622083e-01,  2.08765551e-01,\n",
       "         -1.24381967e-01, -1.14745513e-01,  3.37824225e-03,\n",
       "          1.84098557e-01,  6.68244809e-02,  1.36192665e-01,\n",
       "          3.03743333e-02,  1.22800693e-01,  1.52812406e-01,\n",
       "         -1.40977725e-01, -1.93510950e-02, -1.72743022e-01,\n",
       "         -9.85706598e-02, -1.14334241e-01,  5.25823385e-02,\n",
       "          1.27191797e-01, -1.80013046e-01,  1.46834686e-01,\n",
       "          9.00712162e-02,  1.90002099e-01,  1.78735808e-01,\n",
       "          2.03101650e-01, -1.69213712e-02,  1.37012586e-01,\n",
       "         -5.48958778e-03,  1.53619692e-01,  7.28970915e-02,\n",
       "          1.05710641e-01, -1.36176780e-01,  4.34330851e-02,\n",
       "          1.02468893e-01,  2.02819243e-01, -2.02835336e-01,\n",
       "         -1.04121849e-01,  1.61883608e-01,  1.57940090e-02,\n",
       "         -1.36236817e-01,  1.22832194e-01, -7.99707621e-02,\n",
       "         -1.85955882e-01,  4.90038544e-02,  1.99920103e-01,\n",
       "         -1.61206365e-01, -1.24438971e-01, -1.22829556e-01,\n",
       "          2.58344561e-02,  9.68274623e-02,  6.87283725e-02,\n",
       "         -3.98556888e-03, -1.50660634e-01, -3.13296616e-02,\n",
       "          1.47354886e-01,  8.67727548e-02, -2.25103945e-02,\n",
       "          2.65238732e-02,  1.17812976e-01, -1.39629543e-01,\n",
       "         -5.42178750e-03,  5.30337542e-02,  1.42104492e-01,\n",
       "         -1.35856017e-01,  6.03918880e-02,  1.00556418e-01,\n",
       "         -7.50756711e-02, -2.11373419e-02,  1.16578713e-01,\n",
       "         -3.22621763e-02,  5.85282296e-02,  8.63898546e-02,\n",
       "          1.36734948e-01, -6.52674884e-02,  1.93204924e-01,\n",
       "         -3.32387984e-02, -1.80490315e-02,  5.36778420e-02,\n",
       "          1.74528062e-02, -1.87831685e-01],\n",
       "        [ 1.16459772e-01,  1.53863832e-01, -4.10865396e-02,\n",
       "         -5.71899116e-03, -1.08346403e-01,  7.65561312e-02,\n",
       "          1.32808402e-01, -1.65545136e-01, -1.75769582e-01,\n",
       "          6.61762506e-02, -1.84471488e-01,  1.86015680e-01,\n",
       "         -2.52102911e-02, -7.26643056e-02, -1.24278240e-01,\n",
       "          1.42112374e-04, -7.01561719e-02,  1.10174522e-01,\n",
       "         -1.89954787e-02, -1.12151057e-01,  4.89427000e-02,\n",
       "          5.37911803e-02, -1.10135265e-01, -6.21854812e-02,\n",
       "         -6.57130629e-02, -1.59080788e-01, -1.25095993e-02,\n",
       "          3.38258296e-02, -5.01342267e-02,  1.79394469e-01,\n",
       "          1.05178490e-01, -1.44724607e-01, -7.52979517e-02,\n",
       "         -1.20786428e-01,  3.32210362e-02,  9.71829742e-02,\n",
       "          1.61750957e-01, -1.35919839e-01,  1.65124014e-01,\n",
       "         -7.72359520e-02, -1.29157737e-01,  1.55476019e-01,\n",
       "          1.02104709e-01,  9.42413658e-02, -5.40009439e-02,\n",
       "          8.61274451e-02, -4.46410030e-02,  1.76724896e-01,\n",
       "          2.05507129e-02,  2.03968808e-01,  8.58148187e-02,\n",
       "          6.21284544e-03,  1.97621599e-01,  1.32806554e-01,\n",
       "          1.50031790e-01,  1.06172606e-01, -8.27245861e-02,\n",
       "         -2.08637670e-01, -3.04647386e-02, -1.65434942e-01,\n",
       "         -2.36571878e-02,  1.77656963e-01,  2.46271938e-02,\n",
       "         -1.53720796e-01,  1.62625313e-02,  3.16247344e-03,\n",
       "          1.47142097e-01, -6.68147504e-02, -1.64438754e-01,\n",
       "         -1.92803711e-01,  1.01944670e-01,  1.65787503e-01,\n",
       "         -4.83012199e-02, -6.18338585e-03,  6.82746619e-02,\n",
       "         -2.69661695e-02, -1.74849272e-01, -1.68589100e-01,\n",
       "         -9.78494212e-02,  2.10526004e-01,  9.27190334e-02,\n",
       "         -1.22314565e-01,  2.05470696e-01,  1.21846899e-01,\n",
       "          3.57194394e-02, -2.08741903e-01,  1.99152604e-01,\n",
       "          1.14522889e-01,  1.19533435e-01, -6.12973571e-02,\n",
       "         -1.59283847e-01,  7.35263079e-02,  1.70715824e-01,\n",
       "          1.68536916e-01,  1.00192726e-02,  1.40064284e-01,\n",
       "         -2.01063171e-01, -5.79528511e-02, -1.20876022e-01,\n",
       "          8.44183564e-03, -1.67305738e-01,  8.86445791e-02,\n",
       "          1.05566636e-01,  9.07187313e-02, -1.65392369e-01,\n",
       "          1.46109208e-01,  1.06753275e-01,  1.58993766e-01,\n",
       "          1.63248077e-01,  1.23852342e-02,  1.38001814e-01,\n",
       "         -1.51451454e-01, -3.51506472e-03, -1.18104033e-01,\n",
       "          6.33466393e-02, -1.02198482e-01, -1.74421653e-01,\n",
       "         -1.71856552e-01,  1.23751447e-01,  1.41184255e-01,\n",
       "         -8.21278095e-02,  2.65753269e-02, -1.75827697e-01,\n",
       "          3.53523046e-02, -9.64292437e-02, -8.45318735e-02,\n",
       "          2.06121817e-01,  6.73693866e-02]], dtype=float32),\n",
       " array([0., 0., 0., 0., 0., 0., 0., 0., 0., 0., 0., 0., 0., 0., 0., 0., 0.,\n",
       "        0., 0., 0., 0., 0., 0., 0., 0., 0., 0., 0., 0., 0., 0., 0., 0., 0.,\n",
       "        0., 0., 0., 0., 0., 0., 0., 0., 0., 0., 0., 0., 0., 0., 0., 0., 0.,\n",
       "        0., 0., 0., 0., 0., 0., 0., 0., 0., 0., 0., 0., 0., 0., 0., 0., 0.,\n",
       "        0., 0., 0., 0., 0., 0., 0., 0., 0., 0., 0., 0., 0., 0., 0., 0., 0.,\n",
       "        0., 0., 0., 0., 0., 0., 0., 0., 0., 0., 0., 0., 0., 0., 0., 0., 0.,\n",
       "        0., 0., 0., 0., 0., 0., 0., 0., 0., 0., 0., 0., 0., 0., 0., 0., 0.,\n",
       "        0., 0., 0., 0., 0., 0., 0., 0., 0.], dtype=float32)]"
      ]
     },
     "execution_count": 234,
     "metadata": {},
     "output_type": "execute_result"
    }
   ],
   "source": [
    "model.layers[1].get_weights()"
   ]
  },
  {
   "cell_type": "code",
   "execution_count": 241,
   "metadata": {},
   "outputs": [
    {
     "data": {
      "image/png": "[encoded data removed]",
      "text/plain": [
       "<Figure size 432x288 with 1 Axes>"
      ]
     },
     "metadata": {
      "needs_background": "light"
     },
     "output_type": "display_data"
    },
    {
     "data": {
      "text/plain": [
       "<matplotlib.axes._subplots.AxesSubplot at 0x1d1f4cf2e48>"
      ]
     },
     "execution_count": 241,
     "metadata": {},
     "output_type": "execute_result"
    },
    {
     "data": {
      "image/png": "[encoded data removed]",
      "text/plain": [
       "<Figure size 432x288 with 2 Axes>"
      ]
     },
     "metadata": {
      "needs_background": "light"
     },
     "output_type": "display_data"
    }
   ],
   "source": [
    "q = []\n",
    "\n",
    "for x in x_p:\n",
    "    for y in y_p:\n",
    "        plt.scatter(x,y,s=5,color='b')\n",
    "        status = np.array([x,y,.3,.3,.3,.3])\n",
    "        q.append(model.predict(np.matrix(status))[0])\n",
    "        dx,dy = pick_dql_action(status)\n",
    "        plt.arrow(x,y,dx,dy,color='r')\n",
    "\n",
    "plt.show()\n",
    "sns.heatmap(pd.DataFrame(q))"
   ]
  },
  {
   "cell_type": "code",
   "execution_count": 243,
   "metadata": {},
   "outputs": [
    {
     "data": {
      "text/plain": [
       "4"
      ]
     },
     "execution_count": 243,
     "metadata": {},
     "output_type": "execute_result"
    }
   ],
   "source": [
    "np.argmax(model.predict(np.matrix(status))[0])"
   ]
  },
  {
   "cell_type": "code",
   "execution_count": null,
   "metadata": {},
   "outputs": [],
   "source": []
  }
 ],
 "metadata": {
  "kernelspec": {
   "display_name": "Python 3",
   "language": "python",
   "name": "python3"
  },
  "language_info": {
   "codemirror_mode": {
    "name": "ipython",
    "version": 3
   },
   "file_extension": ".py",
   "mimetype": "text/x-python",
   "name": "python",
   "nbconvert_exporter": "python",
   "pygments_lexer": "ipython3",
   "version": "3.6.7"
  }
 },
 "nbformat": 4,
 "nbformat_minor": 2
}
